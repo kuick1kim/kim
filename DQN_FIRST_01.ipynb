{
  "nbformat": 4,
  "nbformat_minor": 0,
  "metadata": {
    "colab": {
      "name": "Untitled12.ipynb",
      "provenance": [],
      "authorship_tag": "ABX9TyPJ3hQPvGRQEe2Lx3bvBybp",
      "include_colab_link": true
    },
    "kernelspec": {
      "name": "python3",
      "display_name": "Python 3"
    },
    "language_info": {
      "name": "python"
    }
  },
  "cells": [
    {
      "cell_type": "markdown",
      "metadata": {
        "id": "view-in-github",
        "colab_type": "text"
      },
      "source": [
        "<a href=\"https://colab.research.google.com/github/kuick1kim/kim/blob/main/DQN_FIRST_01.ipynb\" target=\"_parent\"><img src=\"https://colab.research.google.com/assets/colab-badge.svg\" alt=\"Open In Colab\"/></a>"
      ]
    },
    {
      "cell_type": "code",
      "metadata": {
        "colab": {
          "base_uri": "https://localhost:8080/"
        },
        "id": "N2Rrca2yYZzp",
        "outputId": "702a4705-3a06-4935-9dad-9dfc637afa15"
      },
      "source": [
        "import gym\n",
        "import torch\n",
        "import torch.nn as nn\n",
        "import torch.nn.functional as F\n",
        "import torch.optim as optim\n",
        "from torch.distributions import Categorical\n",
        "\n",
        "#Hyperparameters\n",
        "learning_rate = 0.0009\n",
        "gamma         = 0.98\n",
        "\n",
        "class Policy(nn.Module):\n",
        "    def __init__(self):\n",
        "        super(Policy, self).__init__()\n",
        "        self.data = []\n",
        "        \n",
        "        self.fc1 = nn.Linear(4, 128)\n",
        "        self.fc2 = nn.Linear(128, 2)\n",
        "        self.optimizer = optim.Adam(self.parameters(), lr=learning_rate)\n",
        "        \n",
        "    def forward(self, x):\n",
        "        x = F.relu(self.fc1(x))\n",
        "        x = F.softmax(self.fc2(x), dim=0)\n",
        "        return x\n",
        "      \n",
        "    def put_data(self, item):\n",
        "        self.data.append(item)\n",
        "        \n",
        "    def train_net(self):\n",
        "        R = 0\n",
        "        self.optimizer.zero_grad()\n",
        "        for r, prob in self.data[::-1]:\n",
        "            R = r + gamma * R\n",
        "            loss = -torch.log(prob) * R\n",
        "            loss.backward()\n",
        "        self.optimizer.step()\n",
        "        self.data = []\n",
        "\n",
        "def main():\n",
        "    env = gym.make('CartPole-v1')\n",
        "    pi = Policy()\n",
        "    score = 0.0\n",
        "    print_interval = 20\n",
        "    \n",
        "    \n",
        "    for n_epi in range(10000):\n",
        "        s = env.reset()\n",
        "        done = False\n",
        "        \n",
        "        while not done: # CartPole-v1 forced to terminates at 500 step.\n",
        "            prob = pi(torch.from_numpy(s).float())\n",
        "            m = Categorical(prob)\n",
        "            a = m.sample()\n",
        "            s_prime, r, done, info = env.step(a.item())\n",
        "            pi.put_data((r,prob[a]))\n",
        "            s = s_prime\n",
        "            score += r\n",
        "            \n",
        "        pi.train_net()\n",
        "        \n",
        "        if n_epi%print_interval==0 and n_epi!=0:\n",
        "            print(\"# of episode :{}, avg score : {}\".format(n_epi, score/print_interval))\n",
        "            score = 0.0\n",
        "    env.close()\n",
        "    \n",
        "if __name__ == '__main__':\n",
        "    main()"
      ],
      "execution_count": null,
      "outputs": [
        {
          "output_type": "stream",
          "text": [
            "# of episode :20, avg score : 23.05\n",
            "# of episode :40, avg score : 30.35\n",
            "# of episode :60, avg score : 39.65\n",
            "# of episode :80, avg score : 51.8\n",
            "# of episode :100, avg score : 44.0\n",
            "# of episode :120, avg score : 41.0\n",
            "# of episode :140, avg score : 48.7\n",
            "# of episode :160, avg score : 50.4\n",
            "# of episode :180, avg score : 68.7\n",
            "# of episode :200, avg score : 86.2\n",
            "# of episode :220, avg score : 124.0\n",
            "# of episode :240, avg score : 115.5\n",
            "# of episode :260, avg score : 146.15\n",
            "# of episode :280, avg score : 199.75\n",
            "# of episode :300, avg score : 199.45\n",
            "# of episode :320, avg score : 227.7\n",
            "# of episode :340, avg score : 206.85\n",
            "# of episode :360, avg score : 283.9\n",
            "# of episode :380, avg score : 249.15\n",
            "# of episode :400, avg score : 220.55\n",
            "# of episode :420, avg score : 272.2\n",
            "# of episode :440, avg score : 240.6\n",
            "# of episode :460, avg score : 338.4\n",
            "# of episode :480, avg score : 315.95\n",
            "# of episode :500, avg score : 285.1\n",
            "# of episode :520, avg score : 189.25\n",
            "# of episode :540, avg score : 199.7\n",
            "# of episode :560, avg score : 170.35\n",
            "# of episode :580, avg score : 250.8\n",
            "# of episode :600, avg score : 390.05\n",
            "# of episode :620, avg score : 390.9\n"
          ],
          "name": "stdout"
        }
      ]
    },
    {
      "cell_type": "code",
      "metadata": {
        "id": "jnPEf-46YbYQ"
      },
      "source": [
        ""
      ],
      "execution_count": null,
      "outputs": []
    }
  ]
}